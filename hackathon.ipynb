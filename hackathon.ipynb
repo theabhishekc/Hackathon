{
 "cells": [
  {
   "cell_type": "code",
   "execution_count": null,
   "metadata": {
    "colab": {
     "base_uri": "https://localhost:8080/"
    },
    "id": "UB1oSCbMKNWH",
    "outputId": "544a3557-723b-4e7f-b1d4-f1eaae42f9ff"
   },
   "outputs": [],
   "source": [
    "%pip install pandas numpy scikit-learn lightgbm optuna joblib"
   ]
  },
  {
   "cell_type": "markdown",
   "metadata": {
    "id": "DSnWByjhEDBz"
   },
   "source": [
    "Importing the necessary Libraries\n"
   ]
  },
  {
   "cell_type": "code",
   "execution_count": null,
   "metadata": {
    "id": "B6ICony-D-HQ"
   },
   "outputs": [],
   "source": [
    "import pandas as pd\n",
    "import numpy as np\n",
    "import warnings\n",
    "warnings.filterwarnings('ignore')\n",
    "\n",
    "from sklearn.model_selection import train_test_split, StratifiedKFold\n",
    "from sklearn.preprocessing import LabelEncoder, StandardScaler\n",
    "from sklearn.metrics import roc_auc_score, classification_report, confusion_matrix\n",
    "import lightgbm as lgb\n",
    "import optuna\n",
    "from optuna.samplers import TPESampler\n",
    "import joblib\n",
    "from lightgbm import early_stopping"
   ]
  },
  {
   "cell_type": "markdown",
   "metadata": {
    "id": "HBfRt4uKE37e"
   },
   "source": [
    "Data Collection"
   ]
  },
  {
   "cell_type": "code",
   "execution_count": null,
   "metadata": {
    "colab": {
     "base_uri": "https://localhost:8080/"
    },
    "id": "jtLI5Ip2E4AL",
    "outputId": "2d2733b0-e3eb-4400-998b-2208ae9d69d8"
   },
   "outputs": [],
   "source": [
    "print(\"Loading dataset...\")\n",
    "# Load your dataset - REPLACE THIS WITH YOUR ACTUAL DATASET PATH\n",
    "df = pd.read_csv(\"/content/Credit-Risk-Dataset.csv\")  # Change to your actual file path\n",
    "\n",
    "print(f\"Dataset loaded with shape: {df.shape}\")\n",
    "print(f\"Columns: {df.columns.tolist()}\")\n",
    "print(df.describe())"
   ]
  },
  {
   "cell_type": "markdown",
   "metadata": {
    "id": "LxKmUZSKEMLZ"
   },
   "source": [
    "Feature Engineering\n"
   ]
  },
  {
   "cell_type": "code",
   "execution_count": null,
   "metadata": {
    "id": "AbOGt30mELWO"
   },
   "outputs": [],
   "source": [
    "def create_new_features(df):\n",
    "    \"\"\"\n",
    "    Create innovative features that might help the model\n",
    "    \"\"\"\n",
    "    df = df.copy()\n",
    "\n",
    "    # Liquidity ratio: Income relative to loan amount\n",
    "    df['liquidity_ratio'] = df['person_income'] / (df['loan_amnt'] + 1)\n",
    "\n",
    "    # Debt burden intensity\n",
    "    df['debt_burden'] = df['person_income'] * df['loan_percent_income']\n",
    "\n",
    "    # Experience to age ratio\n",
    "    df['experience_ratio'] = df['person_emp_length'] / (df['person_age'] + 1)\n",
    "\n",
    "    # Income stability score (assuming longer employment = more stable)\n",
    "    df['income_stability'] = df['person_emp_length'] * df['person_income']\n",
    "\n",
    "    # Credit history density\n",
    "    df['credit_density'] = df['cb_person_cred_hist_length'] / (df['person_age'] - 18 + 1)\n",
    "\n",
    "    # Risk capacity indicator\n",
    "    df['risk_capacity'] = (df['person_income'] - df['loan_amnt'] * df['loan_percent_income']) / 1000\n",
    "\n",
    "    # Debt-to-income squared (non-linear relationship)\n",
    "    df['dti_squared'] = df['loan_percent_income'] ** 2\n",
    "\n",
    "    # Income to loan amount ratio\n",
    "    df['income_to_loan_ratio'] = df['person_income'] / (df['loan_amnt'] + 1)\n",
    "\n",
    "    return df\n",
    "\n"
   ]
  },
  {
   "cell_type": "markdown",
   "metadata": {
    "id": "1dcKkUD4EnQK"
   },
   "source": [
    "Data Preprocessing"
   ]
  },
  {
   "cell_type": "code",
   "execution_count": null,
   "metadata": {
    "colab": {
     "base_uri": "https://localhost:8080/"
    },
    "id": "sedlDGVkEnZM",
    "outputId": "584dd1bd-dd87-4400-b3b0-56398ae66f90"
   },
   "outputs": [],
   "source": [
    "def preprocess_data(df, target='loan_status', test_size=0.2, random_state=42):\n",
    "    \"\"\"\n",
    "    Comprehensive preprocessing pipeline\n",
    "    \"\"\"\n",
    "    # Create new features\n",
    "    df = create_new_features(df)\n",
    "\n",
    "    # Separate features and target\n",
    "    X = df.drop(columns=[target])\n",
    "    y = df[target]\n",
    "\n",
    "    # Identify column types\n",
    "    numeric_features = X.select_dtypes(include=['int64', 'float64']).columns.tolist()\n",
    "    categorical_features = X.select_dtypes(include=['object']).columns.tolist()\n",
    "\n",
    "    # Handle categorical features with label encoding\n",
    "    label_encoders = {}\n",
    "    for col in categorical_features:\n",
    "        le = LabelEncoder()\n",
    "        X[col] = le.fit_transform(X[col].astype(str))\n",
    "        label_encoders[col] = le\n",
    "\n",
    "    # Split the data\n",
    "    X_train, X_test, y_train, y_test = train_test_split(\n",
    "        X, y, test_size=test_size, random_state=random_state, stratify=y\n",
    "    )\n",
    "\n",
    "    # Scale numeric features\n",
    "    scaler = StandardScaler()\n",
    "    X_train[numeric_features] = scaler.fit_transform(X_train[numeric_features])\n",
    "    X_test[numeric_features] = scaler.transform(X_test[numeric_features])\n",
    "\n",
    "    return X_train, X_test, y_train, y_test, label_encoders, scaler, numeric_features, categorical_features\n",
    "\n",
    "print(\"Preprocessing data and creating new features...\")\n",
    "X_train, X_test, y_train, y_test, label_encoders, scaler, numeric_features, categorical_features = preprocess_data(df)\n",
    "\n",
    "print(\"Data preprocessing completed!\")\n",
    "print(f\"Training set shape: {X_train.shape}\")\n",
    "print(f\"Test set shape: {X_test.shape}\")"
   ]
  },
  {
   "cell_type": "markdown",
   "metadata": {
    "id": "IqTr6-5eEsjp"
   },
   "source": [
    "Model Development\n"
   ]
  },
  {
   "cell_type": "code",
   "execution_count": null,
   "metadata": {
    "id": "4pYrZo74EtZ6"
   },
   "outputs": [],
   "source": [
    "def train_optimal_model(X_train, y_train, X_test, y_test, n_trials=50):\n",
    "    \"\"\"\n",
    "    Train the optimal LightGBM model with hyperparameter tuning\n",
    "    \"\"\"\n",
    "    # Hyperparameter optimization\n",
    "    study = optuna.create_study(\n",
    "        direction='maximize',\n",
    "        sampler=TPESampler(seed=42)\n",
    "    )\n",
    "    study.optimize(\n",
    "        lambda trial: objective(trial, X_train, y_train),\n",
    "        n_trials=n_trials,\n",
    "        show_progress_bar=True\n",
    "    )\n",
    "\n",
    "    print(f\"Best ROC-AUC: {study.best_trial.value:.4f}\")\n",
    "\n",
    "    # Train final model with best parameters\n",
    "    best_params = study.best_trial.params\n",
    "    best_params.update({\n",
    "        'objective': 'binary',\n",
    "        'metric': 'auc',\n",
    "        'verbosity': -1,\n",
    "        'boosting_type': 'gbdt',\n",
    "        'random_state': 42\n",
    "    })\n",
    "\n",
    "    final_model = lgb.LGBMClassifier(**best_params)\n",
    "    final_model.fit(\n",
    "        X_train, y_train,\n",
    "        eval_set=[(X_test, y_test)],\n",
    "        callbacks=[early_stopping(100, verbose=100)] # Use callbacks instead of early_stopping_rounds\n",
    "    )\n",
    "\n",
    "    return final_model, study.best_trial.value, best_params\n",
    "\n"
   ]
  },
  {
   "cell_type": "markdown",
   "metadata": {
    "id": "FZ-BgaisEtUj"
   },
   "source": [
    "Optimizing the model (Hyperparameter tuning)"
   ]
  },
  {
   "cell_type": "code",
   "execution_count": null,
   "metadata": {
    "colab": {
     "base_uri": "https://localhost:8080/",
     "height": 711,
     "referenced_widgets": [
      "1d0f2e8b2a454533b1b40236081ae103",
      "9632fc46485d4afcbc9b7cf2af962b00",
      "cbec644da63e4a478e36f5baa802586d",
      "fbd10f2e73b246a0aa21b08e272c4f11",
      "a8cff1acdee84a8188dc6dc03b9c1327",
      "81268916971b445e8ffc855df2c1aec5",
      "ca9f43e0fb69496dac1e6c2374cda875",
      "fae5d18b5cc34007b70a1dbf9dbf622a",
      "5ae16b5ea19543c38ea995077c010114",
      "f2eef036ebdd4c9d98fbeb7280bd40a0",
      "6788ba14bca74c6fbd9148451ea9359d"
     ]
    },
    "id": "vpJzFBccEsqv",
    "outputId": "1e4c9f7c-1dc5-4a7d-dfc5-8be7c72cd1b6"
   },
   "outputs": [],
   "source": [
    "def objective(trial, X, y, n_folds=5):\n",
    "    \"\"\"\n",
    "    Optuna objective function for hyperparameter optimization\n",
    "    \"\"\"\n",
    "    param = {\n",
    "        'objective': 'binary',\n",
    "        'metric': 'auc',\n",
    "        'verbosity': -1,\n",
    "        'boosting_type': 'gbdt',\n",
    "        'n_estimators': trial.suggest_int('n_estimators', 100, 2000),\n",
    "        'learning_rate': trial.suggest_float('learning_rate', 0.005, 0.3, log=True),\n",
    "        'num_leaves': trial.suggest_int('num_leaves', 20, 3000, step=20),\n",
    "        'max_depth': trial.suggest_int('max_depth', 3, 12),\n",
    "        'min_child_samples': trial.suggest_int('min_child_samples', 5, 200),\n",
    "        'subsample': trial.suggest_float('subsample', 0.5, 1.0),\n",
    "        'colsample_bytree': trial.suggest_float('colsample_bytree', 0.5, 1.0),\n",
    "        'reg_alpha': trial.suggest_float('reg_alpha', 1e-8, 10.0, log=True),\n",
    "        'reg_lambda': trial.suggest_float('reg_lambda', 1e-8, 10.0, log=True),\n",
    "        'min_split_gain': trial.suggest_float('min_split_gain', 1e-8, 0.1, log=True),\n",
    "    }\n",
    "\n",
    "    # Cross-validation\n",
    "    cv = StratifiedKFold(n_splits=n_folds, shuffle=True, random_state=42)\n",
    "    cv_scores = []\n",
    "\n",
    "    for train_idx, val_idx in cv.split(X, y):\n",
    "        X_train, X_val = X.iloc[train_idx], X.iloc[val_idx]\n",
    "        y_train, y_val = y.iloc[train_idx], y.iloc[val_idx]\n",
    "\n",
    "        model = lgb.LGBMClassifier(**param, random_state=42)\n",
    "        model.fit(\n",
    "            X_train, y_train,\n",
    "            eval_set=[(X_val, y_val)],\n",
    "            callbacks=[early_stopping(100, verbose=False)] # Use callbacks instead of early_stopping_rounds\n",
    "        )\n",
    "\n",
    "        y_pred_proba = model.predict_proba(X_val)[:, 1]\n",
    "        score = roc_auc_score(y_val, y_pred_proba)\n",
    "        cv_scores.append(score)\n",
    "\n",
    "    return np.mean(cv_scores)\n",
    "\n",
    "print(\"\\nStarting hyperparameter optimization...\")\n",
    "model, best_score, best_params = train_optimal_model(X_train, y_train, X_test, y_test, n_trials=30)"
   ]
  },
  {
   "cell_type": "markdown",
   "metadata": {
    "id": "qsLpvr5mFHYV"
   },
   "source": [
    "Model Validation\n"
   ]
  },
  {
   "cell_type": "code",
   "execution_count": null,
   "metadata": {
    "colab": {
     "base_uri": "https://localhost:8080/"
    },
    "id": "uLQ9nDsEFHeM",
    "outputId": "814710d7-bdce-4bb0-bc42-8f0796960cf1"
   },
   "outputs": [],
   "source": [
    "# Make predictions\n",
    "print(\"\\nMaking predictions...\")\n",
    "y_pred_proba = model.predict_proba(X_test)[:, 1]\n",
    "y_pred = model.predict(X_test)\n",
    "\n",
    "# Evaluate model\n",
    "test_auc = roc_auc_score(y_test, y_pred_proba)\n",
    "print(f\"\\nFinal Test ROC-AUC Score: {test_auc:.4f}\")"
   ]
  },
  {
   "cell_type": "code",
   "execution_count": null,
   "metadata": {
    "colab": {
     "base_uri": "https://localhost:8080/"
    },
    "id": "hncvk62PFgmd",
    "outputId": "3513d4b7-08b9-4537-e6d6-97443e15bc5e"
   },
   "outputs": [],
   "source": [
    "# Feature importance\n",
    "feature_importance = pd.DataFrame({\n",
    "    'feature': X_train.columns,\n",
    "    'importance': model.feature_importances_\n",
    "}).sort_values('importance', ascending=False)\n",
    "\n",
    "print(\"\\nTop 10 Most Important Features:\")\n",
    "print(feature_importance.head(10))"
   ]
  },
  {
   "cell_type": "markdown",
   "metadata": {
    "id": "eqUasUrGFp5z"
   },
   "source": [
    "Probability of Default (PD) Estimation for all applicants"
   ]
  },
  {
   "cell_type": "code",
   "execution_count": null,
   "metadata": {
    "colab": {
     "base_uri": "https://localhost:8080/"
    },
    "id": "A5paQo7jFioc",
    "outputId": "a20c5c2c-d175-49db-b643-72e968bd472d"
   },
   "outputs": [],
   "source": [
    "print(\"\\nGenerating PD values for all applicants...\")\n",
    "X_all = pd.concat([X_train, X_test])\n",
    "all_predictions = model.predict_proba(X_all)[:, 1]\n",
    "\n",
    "# Create final results dataframe\n",
    "final_results = df.copy()\n",
    "final_results['PD'] = all_predictions\n",
    "print(final_results.head())"
   ]
  },
  {
   "cell_type": "markdown",
   "metadata": {
    "id": "mkpbbXC1qzAD"
   },
   "source": [
    "Business Intelligence and Deployment Framework"
   ]
  },
  {
   "cell_type": "markdown",
   "metadata": {
    "id": "Zkqv16Z3vHBh"
   },
   "source": [
    "# **Interest Rate Assignment Strategy**\n",
    "(addressing question 2)\n",
    "\n",
    "Approach: Tiered, non-linear pricing model → aligns with profitability, competitiveness, and risk-adjustment.\n",
    "\n",
    "**Core Objectives:**\n",
    "\n",
    "\n",
    "\n",
    "*   Competitiveness – attract highly creditworthy applicants with low rates.\n",
    "*   Risk-Based Pricing – ensure profitability across varying risk levels.\n",
    "\n",
    "\n",
    "*   Behavioral Incentives – offer acceptable higher rates to riskier applicants (instead of rejecting).\n",
    "\n",
    "\n",
    "**Interest Rate Function (Capped: 7%–18%):**\n",
    "\n",
    "Tier 1 (Super-Prime, PD ≤ 10%): Gentle slope (7 + 15*PD). Competitive rates for best borrowers.\n",
    "\n",
    "Tier 2 (Prime, 10% < PD ≤ 40%): Steeper slope (8.5 + 20*(PD - 0.10)). Balances risk-reward, protects margins.\n",
    "\n",
    "Tier 3 (Sub-Prime, PD > 40%): Flatter slope (14.5 + 6*(PD - 0.40)). Soft decline strategy; caps excessive risk-taking.\n",
    "\n",
    "Rationale: Optimizes for customer acquisition and risk-adjusted profitability, unlike linear models."
   ]
  },
  {
   "cell_type": "code",
   "execution_count": null,
   "metadata": {
    "colab": {
     "base_uri": "https://localhost:8080/"
    },
    "id": "UGgSE7RLFp_M",
    "outputId": "1e694980-2c99-41c9-cf19-87a5703c8598"
   },
   "outputs": [],
   "source": [
    "#Assign interest rate based on probability of default using tiered approach\n",
    "def assign_interest_rate(pd_value):\n",
    "\n",
    "    if pd_value <= 0.10:  # Low Risk Tier\n",
    "        rate = 7 + (15 * pd_value)\n",
    "    elif pd_value <= 0.40:  # Medium Risk Tier\n",
    "        rate = 8.5 + (20 * (pd_value - 0.10))\n",
    "    else:  # High Risk Tier\n",
    "        rate = 14.5 + (6 * (pd_value - 0.40))\n",
    "\n",
    "    # Ensure the rate is capped between 7% and 18%\n",
    "    return max(7.0, min(rate, 18.0))\n",
    "\n",
    "# Assign interest rates based on PD\n",
    "final_results['assigned_interest_rate'] = final_results['PD'].apply(assign_interest_rate)\n",
    "print(final_results.head())"
   ]
  },
  {
   "cell_type": "markdown",
   "metadata": {
    "id": "iUxKksGqJsFL"
   },
   "source": [
    "# **Maximum Profit Calculation & Portfolio Optimization**\n",
    "(addressing question 3)\n",
    "\n",
    "**Focus:** Maximize expected profit, not just minimize default risk.\n",
    "\n",
    "Expected Profit Formula per Applicant:\n",
    "\n",
    "------------------------------------------------------\n",
    "𝐸\n",
    "[\n",
    "Profit\n",
    "]\n",
    "=\n",
    "(\n",
    "Loan Amount\n",
    "×\n",
    "Rate\n",
    "/\n",
    "100\n",
    ")\n",
    "×\n",
    "(\n",
    "1\n",
    "−\n",
    "𝑃\n",
    "𝐷\n",
    ")\n",
    "\n",
    "−\n",
    "\n",
    "(\n",
    "Loan Amount\n",
    "×\n",
    "𝐿\n",
    "𝐺\n",
    "𝐷\n",
    "×\n",
    "𝑃\n",
    "𝐷\n",
    ")\n",
    "E[Profit]=(Loan Amount×Rate/100)×(1−PD)−(Loan Amount×LGD×PD)\n",
    "\n",
    "---------------------------------------------------------------------------\n",
    "With LGD = 60% (0.6).\n",
    "\n",
    "# Portfolio Optimization Steps:\n",
    "\n",
    "\n",
    "1.   Predict PD for each applicant (model-generated).\n",
    "2.   Assign Interest Rate via tiered function.\n",
    "3.   Calculate E[Profit] for all applicants.\n",
    "4.   Rank by Profitability (descending).\n",
    "5.   Apply Constraint – accept only top 30% of applicants.\n",
    "6.   Compute Portfolio Value – sum of E[Profit] for top 30%.\n",
    "\n",
    "\n",
    "\n",
    "\n",
    "\n",
    "\n",
    "\n"
   ]
  },
  {
   "cell_type": "code",
   "execution_count": null,
   "metadata": {
    "colab": {
     "base_uri": "https://localhost:8080/"
    },
    "id": "k_IU2zOzFz9C",
    "outputId": "6026190d-9448-449f-8181-908a6e54a8b2"
   },
   "outputs": [],
   "source": [
    "#Calculate expected profit for a loan\n",
    "def calculate_expected_profit(loan_amnt, interest_rate, pd_value, lgd=0.6):\n",
    "\n",
    "    profit_if_paid = loan_amnt * (interest_rate / 100)  # Interest earned\n",
    "    loss_if_default = -loan_amnt * lgd  # Loss given default\n",
    "\n",
    "    expected_profit = (profit_if_paid * (1 - pd_value)) + (loss_if_default * pd_value)\n",
    "    return expected_profit\n",
    "\n",
    "# Calculate expected profit\n",
    "final_results['expected_profit'] = final_results.apply(\n",
    "    lambda row: calculate_expected_profit(\n",
    "        row['loan_amnt'],\n",
    "        row['assigned_interest_rate'],\n",
    "        row['PD']\n",
    "    ), axis=1\n",
    ")\n",
    "\n",
    "print(\"\\nSample predictions with PD values and interest rates:\")\n",
    "print(final_results[['person_age', 'person_income', 'loan_amnt', 'loan_status',\n",
    "                    'PD', 'assigned_interest_rate', 'expected_profit']].head(10))"
   ]
  },
  {
   "cell_type": "markdown",
   "metadata": {
    "id": "aXjNdCygJvyq"
   },
   "source": [
    "Finding the top 30% most profitable applicants"
   ]
  },
  {
   "cell_type": "code",
   "execution_count": null,
   "metadata": {
    "colab": {
     "base_uri": "https://localhost:8080/"
    },
    "id": "rb_Iq40dF1KJ",
    "outputId": "784168c1-9588-4ff7-caa1-ea776444ab2b"
   },
   "outputs": [],
   "source": [
    "print(\"\\nSelecting top 30% most profitable applicants...\")\n",
    "final_results_sorted = final_results.sort_values('expected_profit', ascending=False)\n",
    "top_30_percent = final_results_sorted.head(int(len(final_results_sorted) * 0.3))\n",
    "total_expected_profit = top_30_percent['expected_profit'].sum()\n",
    "print(f\"Total expected profit from top 30% applicants: ₹{total_expected_profit:,.2f}\")\n",
    "print(f\"Number of applicants in top 30%: {len(top_30_percent)}\")\n",
    "print(f\"Average PD in top 30%: {top_30_percent['PD'].mean():.4f}\")\n",
    "print(f\"Average interest rate in top 30%: {top_30_percent['assigned_interest_rate'].mean():.2f}%\")\n"
   ]
  },
  {
   "cell_type": "markdown",
   "metadata": {
    "id": "5aR_Kw6rJ4LK"
   },
   "source": [
    "Saving model and preprocessing artifacts\n"
   ]
  },
  {
   "cell_type": "code",
   "execution_count": null,
   "metadata": {
    "colab": {
     "base_uri": "https://localhost:8080/"
    },
    "id": "RoXnSQnTGxQK",
    "outputId": "830cb193-e952-4463-ac06-39f48192a94e"
   },
   "outputs": [],
   "source": [
    "print(\"\\nSaving model and preprocessing artifacts...\")\n",
    "joblib.dump(model, 'lightgbm_credit_risk_model.pkl')\n",
    "joblib.dump(label_encoders, 'label_encoders.pkl')\n",
    "joblib.dump(scaler, 'feature_scaler.pkl')\n",
    "joblib.dump(best_params, 'best_hyperparameters.pkl')\n",
    "\n",
    "# Save final results\n",
    "final_results.to_csv('loan_applicants_with_predictions.csv', index=False)\n",
    "top_30_percent.to_csv('top_30_percent_profitable_applicants.csv', index=False)\n",
    "\n",
    "print(\"\\nAll files saved successfully!\")\n",
    "print(\"Files created:\")\n",
    "print(\"- lightgbm_credit_risk_model.pkl (Trained model)\")\n",
    "print(\"- label_encoders.pkl (Categorical encoders)\")\n",
    "print(\"- feature_scaler.pkl (Feature scaler)\")\n",
    "print(\"- best_hyperparameters.pkl (Optimal hyperparameters)\")\n",
    "print(\"- loan_applicants_with_predictions.csv (All applicants with predictions)\")\n",
    "print(\"- top_30_percent_profitable_applicants.csv (Top 30% most profitable applicants)\")"
   ]
  }
 ],
 "metadata": {
  "colab": {
   "provenance": []
  },
  "kernelspec": {
   "display_name": "Python 3",
   "name": "python3"
  },
  "language_info": {
   "name": "python"
  }
 },
 "nbformat": 4,
 "nbformat_minor": 0
}
