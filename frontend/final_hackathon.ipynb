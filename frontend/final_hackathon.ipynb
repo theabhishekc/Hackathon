{
 "cells": [
  {
   "cell_type": "markdown",
   "metadata": {
    "id": "DSnWByjhEDBz"
   },
   "source": [
    "Importing the necessary Libraries\n"
   ]
  },
  {
   "cell_type": "code",
   "execution_count": 1,
   "metadata": {
    "colab": {
     "base_uri": "https://localhost:8080/"
    },
    "executionInfo": {
     "elapsed": 8354,
     "status": "ok",
     "timestamp": 1755855822085,
     "user": {
      "displayName": "Abhishek C",
      "userId": "02828994344966629413"
     },
     "user_tz": -330
    },
    "id": "UB1oSCbMKNWH",
    "outputId": "977f8947-7cf1-48ad-c7a4-e8ec00b9845d"
   },
   "outputs": [
    {
     "name": "stdout",
     "output_type": "stream",
     "text": [
      "Requirement already satisfied: pandas in c:\\users\\amoggh bharadwaj\\appdata\\local\\programs\\python\\python312\\lib\\site-packages (2.2.2)\n",
      "Requirement already satisfied: numpy in c:\\users\\amoggh bharadwaj\\appdata\\local\\programs\\python\\python312\\lib\\site-packages (1.26.4)\n",
      "Requirement already satisfied: scikit-learn in c:\\users\\amoggh bharadwaj\\appdata\\local\\programs\\python\\python312\\lib\\site-packages (1.5.1)\n",
      "Collecting lightgbm\n",
      "  Downloading lightgbm-4.6.0-py3-none-win_amd64.whl.metadata (17 kB)\n",
      "Collecting optuna\n",
      "  Downloading optuna-4.5.0-py3-none-any.whl.metadata (17 kB)\n",
      "Requirement already satisfied: joblib in c:\\users\\amoggh bharadwaj\\appdata\\local\\programs\\python\\python312\\lib\\site-packages (1.4.2)\n",
      "Requirement already satisfied: python-dateutil>=2.8.2 in c:\\users\\amoggh bharadwaj\\appdata\\roaming\\python\\python312\\site-packages (from pandas) (2.9.0.post0)\n",
      "Requirement already satisfied: pytz>=2020.1 in c:\\users\\amoggh bharadwaj\\appdata\\local\\programs\\python\\python312\\lib\\site-packages (from pandas) (2025.2)\n",
      "Requirement already satisfied: tzdata>=2022.7 in c:\\users\\amoggh bharadwaj\\appdata\\local\\programs\\python\\python312\\lib\\site-packages (from pandas) (2025.2)\n",
      "Requirement already satisfied: scipy>=1.6.0 in c:\\users\\amoggh bharadwaj\\appdata\\local\\programs\\python\\python312\\lib\\site-packages (from scikit-learn) (1.15.2)\n",
      "Requirement already satisfied: threadpoolctl>=3.1.0 in c:\\users\\amoggh bharadwaj\\appdata\\local\\programs\\python\\python312\\lib\\site-packages (from scikit-learn) (3.6.0)\n",
      "Collecting alembic>=1.5.0 (from optuna)\n",
      "  Downloading alembic-1.16.4-py3-none-any.whl.metadata (7.3 kB)\n",
      "Collecting colorlog (from optuna)\n",
      "  Downloading colorlog-6.9.0-py3-none-any.whl.metadata (10 kB)\n",
      "Requirement already satisfied: packaging>=20.0 in c:\\users\\amoggh bharadwaj\\appdata\\roaming\\python\\python312\\site-packages (from optuna) (24.1)\n",
      "Requirement already satisfied: sqlalchemy>=1.4.2 in c:\\users\\amoggh bharadwaj\\appdata\\local\\programs\\python\\python312\\lib\\site-packages (from optuna) (2.0.38)\n",
      "Requirement already satisfied: tqdm in c:\\users\\amoggh bharadwaj\\appdata\\local\\programs\\python\\python312\\lib\\site-packages (from optuna) (4.67.1)\n",
      "Requirement already satisfied: PyYAML in c:\\users\\amoggh bharadwaj\\appdata\\local\\programs\\python\\python312\\lib\\site-packages (from optuna) (6.0.2)\n",
      "Collecting Mako (from alembic>=1.5.0->optuna)\n",
      "  Downloading mako-1.3.10-py3-none-any.whl.metadata (2.9 kB)\n",
      "Requirement already satisfied: typing-extensions>=4.12 in c:\\users\\amoggh bharadwaj\\appdata\\local\\programs\\python\\python312\\lib\\site-packages (from alembic>=1.5.0->optuna) (4.12.2)\n",
      "Requirement already satisfied: six>=1.5 in c:\\users\\amoggh bharadwaj\\appdata\\roaming\\python\\python312\\site-packages (from python-dateutil>=2.8.2->pandas) (1.16.0)\n",
      "Requirement already satisfied: greenlet!=0.4.17 in c:\\users\\amoggh bharadwaj\\appdata\\local\\programs\\python\\python312\\lib\\site-packages (from sqlalchemy>=1.4.2->optuna) (3.1.1)\n",
      "Requirement already satisfied: colorama in c:\\users\\amoggh bharadwaj\\appdata\\roaming\\python\\python312\\site-packages (from colorlog->optuna) (0.4.6)\n",
      "Requirement already satisfied: MarkupSafe>=0.9.2 in c:\\users\\amoggh bharadwaj\\appdata\\local\\programs\\python\\python312\\lib\\site-packages (from Mako->alembic>=1.5.0->optuna) (3.0.2)\n",
      "Downloading lightgbm-4.6.0-py3-none-win_amd64.whl (1.5 MB)\n",
      "   ---------------------------------------- 0.0/1.5 MB ? eta -:--:--\n",
      "   ---------------------------------------- 1.5/1.5 MB 8.4 MB/s  0:00:00\n",
      "Downloading optuna-4.5.0-py3-none-any.whl (400 kB)\n",
      "Downloading alembic-1.16.4-py3-none-any.whl (247 kB)\n",
      "Downloading colorlog-6.9.0-py3-none-any.whl (11 kB)\n",
      "Downloading mako-1.3.10-py3-none-any.whl (78 kB)\n",
      "Installing collected packages: Mako, colorlog, lightgbm, alembic, optuna\n",
      "\n",
      "   ---------------------------------------- 0/5 [Mako]\n",
      "   ---------------------------------------- 0/5 [Mako]\n",
      "   ---------------------------------------- 0/5 [Mako]\n",
      "   ---------------------------------------- 0/5 [Mako]\n",
      "   ---------------------------------------- 0/5 [Mako]\n",
      "   ---------------------------------------- 0/5 [Mako]\n",
      "   ---------------- ----------------------- 2/5 [lightgbm]\n",
      "   ---------------- ----------------------- 2/5 [lightgbm]\n",
      "   ------------------------ --------------- 3/5 [alembic]\n",
      "   ------------------------ --------------- 3/5 [alembic]\n",
      "   ------------------------ --------------- 3/5 [alembic]\n",
      "   ------------------------ --------------- 3/5 [alembic]\n",
      "   ------------------------ --------------- 3/5 [alembic]\n",
      "   ------------------------ --------------- 3/5 [alembic]\n",
      "   ------------------------ --------------- 3/5 [alembic]\n",
      "   ------------------------ --------------- 3/5 [alembic]\n",
      "   ------------------------ --------------- 3/5 [alembic]\n",
      "   ------------------------ --------------- 3/5 [alembic]\n",
      "   ------------------------ --------------- 3/5 [alembic]\n",
      "   -------------------------------- ------- 4/5 [optuna]\n",
      "   -------------------------------- ------- 4/5 [optuna]\n",
      "   -------------------------------- ------- 4/5 [optuna]\n",
      "   -------------------------------- ------- 4/5 [optuna]\n",
      "   -------------------------------- ------- 4/5 [optuna]\n",
      "   -------------------------------- ------- 4/5 [optuna]\n",
      "   -------------------------------- ------- 4/5 [optuna]\n",
      "   -------------------------------- ------- 4/5 [optuna]\n",
      "   -------------------------------- ------- 4/5 [optuna]\n",
      "   -------------------------------- ------- 4/5 [optuna]\n",
      "   -------------------------------- ------- 4/5 [optuna]\n",
      "   -------------------------------- ------- 4/5 [optuna]\n",
      "   -------------------------------- ------- 4/5 [optuna]\n",
      "   -------------------------------- ------- 4/5 [optuna]\n",
      "   -------------------------------- ------- 4/5 [optuna]\n",
      "   -------------------------------- ------- 4/5 [optuna]\n",
      "   -------------------------------- ------- 4/5 [optuna]\n",
      "   -------------------------------- ------- 4/5 [optuna]\n",
      "   -------------------------------- ------- 4/5 [optuna]\n",
      "   -------------------------------- ------- 4/5 [optuna]\n",
      "   -------------------------------- ------- 4/5 [optuna]\n",
      "   -------------------------------- ------- 4/5 [optuna]\n",
      "   -------------------------------- ------- 4/5 [optuna]\n",
      "   -------------------------------- ------- 4/5 [optuna]\n",
      "   -------------------------------- ------- 4/5 [optuna]\n",
      "   -------------------------------- ------- 4/5 [optuna]\n",
      "   -------------------------------- ------- 4/5 [optuna]\n",
      "   -------------------------------- ------- 4/5 [optuna]\n",
      "   ---------------------------------------- 5/5 [optuna]\n",
      "\n",
      "Successfully installed Mako-1.3.10 alembic-1.16.4 colorlog-6.9.0 lightgbm-4.6.0 optuna-4.5.0\n",
      "Note: you may need to restart the kernel to use updated packages.\n"
     ]
    }
   ],
   "source": [
    "%pip install pandas numpy scikit-learn lightgbm optuna joblib"
   ]
  },
  {
   "cell_type": "code",
   "execution_count": 2,
   "metadata": {
    "executionInfo": {
     "elapsed": 2,
     "status": "ok",
     "timestamp": 1755855822102,
     "user": {
      "displayName": "Abhishek C",
      "userId": "02828994344966629413"
     },
     "user_tz": -330
    },
    "id": "B6ICony-D-HQ"
   },
   "outputs": [],
   "source": [
    "import pandas as pd\n",
    "import numpy as np\n",
    "import warnings\n",
    "warnings.filterwarnings('ignore')\n",
    "\n",
    "from sklearn.model_selection import train_test_split, StratifiedKFold\n",
    "from sklearn.preprocessing import LabelEncoder, StandardScaler\n",
    "from sklearn.metrics import roc_auc_score, classification_report, confusion_matrix\n",
    "import lightgbm as lgb\n",
    "import optuna\n",
    "from optuna.samplers import TPESampler\n",
    "import joblib\n",
    "from lightgbm import early_stopping"
   ]
  },
  {
   "cell_type": "markdown",
   "metadata": {
    "id": "HBfRt4uKE37e"
   },
   "source": [
    "Data Collection"
   ]
  },
  {
   "cell_type": "code",
   "execution_count": 5,
   "metadata": {
    "colab": {
     "base_uri": "https://localhost:8080/"
    },
    "executionInfo": {
     "elapsed": 173,
     "status": "ok",
     "timestamp": 1755855915078,
     "user": {
      "displayName": "Abhishek C",
      "userId": "02828994344966629413"
     },
     "user_tz": -330
    },
    "id": "jtLI5Ip2E4AL",
    "outputId": "7de363e4-2d57-4685-e0bd-763509840520"
   },
   "outputs": [
    {
     "name": "stdout",
     "output_type": "stream",
     "text": [
      "Loading dataset...\n",
      "Dataset loaded with shape: (32581, 11)\n",
      "Columns: ['person_age', 'person_income', 'person_home_ownership', 'person_emp_length', 'loan_intent', 'loan_grade', 'loan_amnt', 'loan_status', 'loan_percent_income', 'cb_person_default_on_file', 'cb_person_cred_hist_length']\n",
      "         person_age  person_income  person_emp_length     loan_amnt  \\\n",
      "count  32581.000000   3.258100e+04       31686.000000  32581.000000   \n",
      "mean      27.734600   6.607485e+04           4.789686   9589.371106   \n",
      "std        6.348078   6.198312e+04           4.142630   6322.086646   \n",
      "min       20.000000   4.000000e+03           0.000000    500.000000   \n",
      "25%       23.000000   3.850000e+04           2.000000   5000.000000   \n",
      "50%       26.000000   5.500000e+04           4.000000   8000.000000   \n",
      "75%       30.000000   7.920000e+04           7.000000  12200.000000   \n",
      "max      144.000000   6.000000e+06         123.000000  35000.000000   \n",
      "\n",
      "        loan_status  loan_percent_income  cb_person_cred_hist_length  \n",
      "count  32581.000000         32581.000000                32581.000000  \n",
      "mean       0.218164             0.170203                    5.804211  \n",
      "std        0.413006             0.106782                    4.055001  \n",
      "min        0.000000             0.000000                    2.000000  \n",
      "25%        0.000000             0.090000                    3.000000  \n",
      "50%        0.000000             0.150000                    4.000000  \n",
      "75%        0.000000             0.230000                    8.000000  \n",
      "max        1.000000             0.830000                   30.000000  \n"
     ]
    }
   ],
   "source": [
    "print(\"Loading dataset...\")\n",
    "# Load your dataset - REPLACE THIS WITH YOUR ACTUAL DATASET PATH\n",
    "df = pd.read_csv(\"C:/Users/Amoggh Bharadwaj/OneDrive/Desktop/AIDEATE/Credit-Risk-Dataset.csv\")  # Change to your actual file path\n",
    "\n",
    "print(f\"Dataset loaded with shape: {df.shape}\")\n",
    "print(f\"Columns: {df.columns.tolist()}\")\n",
    "print(df.describe())"
   ]
  },
  {
   "cell_type": "markdown",
   "metadata": {
    "id": "LxKmUZSKEMLZ"
   },
   "source": [
    "Feature Engineering\n"
   ]
  },
  {
   "cell_type": "code",
   "execution_count": 7,
   "metadata": {
    "executionInfo": {
     "elapsed": 3,
     "status": "ok",
     "timestamp": 1755855920002,
     "user": {
      "displayName": "Abhishek C",
      "userId": "02828994344966629413"
     },
     "user_tz": -330
    },
    "id": "AbOGt30mELWO"
   },
   "outputs": [],
   "source": [
    "def create_new_features(df):\n",
    "    \"\"\"\n",
    "    Create innovative features that might help the model\n",
    "    \"\"\"\n",
    "    df = df.copy()\n",
    "\n",
    "    # Liquidity ratio: Income relative to loan amount\n",
    "    df['liquidity_ratio'] = df['person_income'] / (df['loan_amnt'] + 1)\n",
    "\n",
    "    # Debt burden intensity\n",
    "    df['debt_burden'] = df['person_income'] * df['loan_percent_income']\n",
    "\n",
    "    # Experience to age ratio\n",
    "    df['experience_ratio'] = df['person_emp_length'] / (df['person_age'] + 1)\n",
    "\n",
    "    # Income stability score (assuming longer employment = more stable)\n",
    "    df['income_stability'] = df['person_emp_length'] * df['person_income']\n",
    "\n",
    "    # Credit history density\n",
    "    df['credit_density'] = df['cb_person_cred_hist_length'] / (df['person_age'] - 18 + 1)\n",
    "\n",
    "    # Risk capacity indicator\n",
    "    df['risk_capacity'] = (df['person_income'] - df['loan_amnt'] * df['loan_percent_income']) / 1000\n",
    "\n",
    "    # Debt-to-income squared (non-linear relationship)\n",
    "    df['dti_squared'] = df['loan_percent_income'] ** 2\n",
    "\n",
    "    # Income to loan amount ratio\n",
    "    df['income_to_loan_ratio'] = df['person_income'] / (df['loan_amnt'] + 1)\n",
    "\n",
    "    return df\n",
    "\n"
   ]
  },
  {
   "cell_type": "markdown",
   "metadata": {
    "id": "1dcKkUD4EnQK"
   },
   "source": [
    "Data Preprocessing"
   ]
  },
  {
   "cell_type": "code",
   "execution_count": 10,
   "metadata": {
    "colab": {
     "base_uri": "https://localhost:8080/"
    },
    "executionInfo": {
     "elapsed": 169,
     "status": "ok",
     "timestamp": 1755855930392,
     "user": {
      "displayName": "Abhishek C",
      "userId": "02828994344966629413"
     },
     "user_tz": -330
    },
    "id": "sedlDGVkEnZM",
    "outputId": "5156b9f7-eb91-4ca7-a61b-7305fd7b2991"
   },
   "outputs": [
    {
     "name": "stdout",
     "output_type": "stream",
     "text": [
      "Preprocessing data and creating new features...\n",
      "Data preprocessing completed!\n",
      "Training set shape: (26064, 18)\n",
      "Test set shape: (6517, 18)\n"
     ]
    }
   ],
   "source": [
    "def preprocess_data(df, target='loan_status', test_size=0.2, random_state=42):\n",
    "    \"\"\"\n",
    "    Comprehensive preprocessing pipeline\n",
    "    \"\"\"\n",
    "    # Create new features\n",
    "    df = create_new_features(df)\n",
    "\n",
    "    # Separate features and target\n",
    "    X = df.drop(columns=[target])\n",
    "    y = df[target]\n",
    "\n",
    "    # Identify column types\n",
    "    numeric_features = X.select_dtypes(include=['int64', 'float64']).columns.tolist()\n",
    "    categorical_features = X.select_dtypes(include=['object']).columns.tolist()\n",
    "\n",
    "    # Handle categorical features with label encoding\n",
    "    label_encoders = {}\n",
    "    for col in categorical_features:\n",
    "        le = LabelEncoder()\n",
    "        X[col] = le.fit_transform(X[col].astype(str))\n",
    "        label_encoders[col] = le\n",
    "\n",
    "    # Split the data\n",
    "    X_train, X_test, y_train, y_test = train_test_split(\n",
    "        X, y, test_size=test_size, random_state=random_state, stratify=y\n",
    "    )\n",
    "\n",
    "    # Scale numeric features\n",
    "    scaler = StandardScaler()\n",
    "    X_train[numeric_features] = scaler.fit_transform(X_train[numeric_features])\n",
    "    X_test[numeric_features] = scaler.transform(X_test[numeric_features])\n",
    "\n",
    "    return X_train, X_test, y_train, y_test, label_encoders, scaler, numeric_features, categorical_features\n",
    "\n",
    "print(\"Preprocessing data and creating new features...\")\n",
    "X_train, X_test, y_train, y_test, label_encoders, scaler, numeric_features, categorical_features = preprocess_data(df)\n",
    "\n",
    "print(\"Data preprocessing completed!\")\n",
    "print(f\"Training set shape: {X_train.shape}\")\n",
    "print(f\"Test set shape: {X_test.shape}\")"
   ]
  },
  {
   "cell_type": "markdown",
   "metadata": {
    "id": "IqTr6-5eEsjp"
   },
   "source": [
    "Building the model"
   ]
  },
  {
   "cell_type": "code",
   "execution_count": 9,
   "metadata": {
    "executionInfo": {
     "elapsed": 45,
     "status": "ok",
     "timestamp": 1755855951013,
     "user": {
      "displayName": "Abhishek C",
      "userId": "02828994344966629413"
     },
     "user_tz": -330
    },
    "id": "4pYrZo74EtZ6"
   },
   "outputs": [],
   "source": [
    "def train_optimal_model(X_train, y_train, X_test, y_test, n_trials=50):\n",
    "    \"\"\"\n",
    "    Train the optimal LightGBM model with hyperparameter tuning\n",
    "    \"\"\"\n",
    "    # Hyperparameter optimization\n",
    "    study = optuna.create_study(\n",
    "        direction='maximize',\n",
    "        sampler=TPESampler(seed=42)\n",
    "    )\n",
    "    study.optimize(\n",
    "        lambda trial: objective(trial, X_train, y_train),\n",
    "        n_trials=n_trials,\n",
    "        show_progress_bar=True\n",
    "    )\n",
    "\n",
    "    print(f\"Best ROC-AUC: {study.best_trial.value:.4f}\")\n",
    "\n",
    "    # Train final model with best parameters\n",
    "    best_params = study.best_trial.params\n",
    "    best_params.update({\n",
    "        'objective': 'binary',\n",
    "        'metric': 'auc',\n",
    "        'verbosity': -1,\n",
    "        'boosting_type': 'gbdt',\n",
    "        'random_state': 42\n",
    "    })\n",
    "\n",
    "    final_model = lgb.LGBMClassifier(**best_params)\n",
    "    final_model.fit(\n",
    "        X_train, y_train,\n",
    "        eval_set=[(X_test, y_test)],\n",
    "        callbacks=[early_stopping(100, verbose=100)] # Use callbacks instead of early_stopping_rounds\n",
    "    )\n",
    "\n",
    "    return final_model, study.best_trial.value, best_params\n",
    "\n"
   ]
  },
  {
   "cell_type": "markdown",
   "metadata": {
    "id": "FZ-BgaisEtUj"
   },
   "source": [
    " Hyperparameter tuning"
   ]
  },
  {
   "cell_type": "code",
   "execution_count": 11,
   "metadata": {
    "colab": {
     "base_uri": "https://localhost:8080/",
     "height": 711,
     "referenced_widgets": [
      "9a377904ed86419d94792a1853f27246",
      "9c49d4b0c08c4be690b8cc0807f903c9",
      "108511382c104711ade65a92507f1faf",
      "e89a8428a9da4258840089542ed6564a",
      "45631c63e0b348e4a7bfdaa1310a8f3d",
      "89c1e32d32fa4b36b809bc008522b1d0",
      "99413f11581d4537a5ac61ff42c0baeb",
      "d38fda4f03ac4be3a964fe5689e3c0b8",
      "c74599fd1cd7453aadaa46b75757c606",
      "744756820db447908d97138e8aec2bdd",
      "94864114d26b41ac818c213c8b23f97c"
     ]
    },
    "executionInfo": {
     "elapsed": 687003,
     "status": "ok",
     "timestamp": 1755856651653,
     "user": {
      "displayName": "Abhishek C",
      "userId": "02828994344966629413"
     },
     "user_tz": -330
    },
    "id": "vpJzFBccEsqv",
    "outputId": "6aea42a9-e482-4d06-fc24-2905142670b2"
   },
   "outputs": [
    {
     "name": "stderr",
     "output_type": "stream",
     "text": [
      "[I 2025-08-22 23:14:11,097] A new study created in memory with name: no-name-1feb637f-2806-4830-b36e-1aa696aaefce\n"
     ]
    },
    {
     "name": "stdout",
     "output_type": "stream",
     "text": [
      "\n",
      "Starting hyperparameter optimization...\n"
     ]
    },
    {
     "data": {
      "application/vnd.jupyter.widget-view+json": {
       "model_id": "286bd8aa327d480089a458096d870fa9",
       "version_major": 2,
       "version_minor": 0
      },
      "text/plain": [
       "  0%|          | 0/30 [00:00<?, ?it/s]"
      ]
     },
     "metadata": {},
     "output_type": "display_data"
    },
    {
     "name": "stdout",
     "output_type": "stream",
     "text": [
      "[I 2025-08-22 23:14:16,409] Trial 0 finished with value: 0.9438537809968637 and parameters: {'n_estimators': 812, 'learning_rate': 0.24517932047070642, 'num_leaves': 2200, 'max_depth': 8, 'min_child_samples': 35, 'subsample': 0.5779972601681014, 'colsample_bytree': 0.5290418060840998, 'reg_alpha': 0.6245760287469893, 'reg_lambda': 0.002570603566117598, 'min_split_gain': 0.000904707195756838}. Best is trial 0 with value: 0.9438537809968637.\n",
      "[I 2025-08-22 23:14:19,255] Trial 1 finished with value: 0.9465050204512527 and parameters: {'n_estimators': 139, 'learning_rate': 0.2652261985899886, 'num_leaves': 2500, 'max_depth': 5, 'min_child_samples': 40, 'subsample': 0.5917022549267169, 'colsample_bytree': 0.6521211214797689, 'reg_alpha': 0.00052821153945323, 'reg_lambda': 7.71800699380605e-05, 'min_split_gain': 1.092959278721938e-06}. Best is trial 1 with value: 0.9465050204512527.\n",
      "[I 2025-08-22 23:14:40,486] Trial 2 finished with value: 0.9349938728729409 and parameters: {'n_estimators': 1263, 'learning_rate': 0.008851384099881301, 'num_leaves': 880, 'max_depth': 6, 'min_child_samples': 94, 'subsample': 0.8925879806965068, 'colsample_bytree': 0.5998368910791798, 'reg_alpha': 0.00042472707398058225, 'reg_lambda': 0.0021465011216654484, 'min_split_gain': 2.114233203549711e-08}. Best is trial 1 with value: 0.9465050204512527.\n",
      "[I 2025-08-22 23:15:09,526] Trial 3 finished with value: 0.9415968085026998 and parameters: {'n_estimators': 1254, 'learning_rate': 0.0100505004670421, 'num_leaves': 200, 'max_depth': 12, 'min_child_samples': 194, 'subsample': 0.9041986740582306, 'colsample_bytree': 0.6523068845866853, 'reg_alpha': 7.569183361880229e-08, 'reg_lambda': 0.014391207615728067, 'min_split_gain': 1.2052231254145584e-05}. Best is trial 1 with value: 0.9465050204512527.\n",
      "[I 2025-08-22 23:15:18,756] Trial 4 finished with value: 0.9438196451415776 and parameters: {'n_estimators': 331, 'learning_rate': 0.03797252233376349, 'num_leaves': 120, 'max_depth': 12, 'min_child_samples': 55, 'subsample': 0.831261142176991, 'colsample_bytree': 0.6558555380447055, 'reg_alpha': 0.0004793052550782129, 'reg_lambda': 0.0008325158565947976, 'min_split_gain': 1.9678010532114926e-07}. Best is trial 1 with value: 0.9465050204512527.\n",
      "[I 2025-08-22 23:15:27,577] Trial 5 finished with value: 0.9441583695228222 and parameters: {'n_estimators': 1943, 'learning_rate': 0.11947399979512872, 'num_leaves': 2820, 'max_depth': 11, 'min_child_samples': 122, 'subsample': 0.9609371175115584, 'colsample_bytree': 0.5442462510259598, 'reg_alpha': 5.805581976088804e-07, 'reg_lambda': 2.5529693461039728e-08, 'min_split_gain': 1.8937049541631268e-06}. Best is trial 1 with value: 0.9465050204512527.\n",
      "[I 2025-08-22 23:15:46,918] Trial 6 finished with value: 0.943334435619852 and parameters: {'n_estimators': 838, 'learning_rate': 0.015186917176306207, 'num_leaves': 2500, 'max_depth': 6, 'min_child_samples': 60, 'subsample': 0.7713480415791243, 'colsample_bytree': 0.5704621124873813, 'reg_alpha': 0.16587190283399655, 'reg_lambda': 4.6876566400928895e-08, 'min_split_gain': 0.08094845352286129}. Best is trial 1 with value: 0.9465050204512527.\n",
      "[I 2025-08-22 23:16:15,994] Trial 7 finished with value: 0.9455750411413438 and parameters: {'n_estimators': 1568, 'learning_rate': 0.011280193301171913, 'num_leaves': 20, 'max_depth': 11, 'min_child_samples': 143, 'subsample': 0.8645035840204937, 'colsample_bytree': 0.8856351733429728, 'reg_alpha': 4.638759594322625e-08, 'reg_lambda': 1.683416412018213e-05, 'min_split_gain': 6.472669269538615e-08}. Best is trial 1 with value: 0.9465050204512527.\n",
      "[I 2025-08-22 23:16:40,277] Trial 8 finished with value: 0.9469891077917584 and parameters: {'n_estimators': 1740, 'learning_rate': 0.06416354462323627, 'num_leaves': 1000, 'max_depth': 3, 'min_child_samples': 65, 'subsample': 0.6625916610133735, 'colsample_bytree': 0.864803089169032, 'reg_alpha': 0.005470376807480391, 'reg_lambda': 0.9658611176861268, 'min_split_gain': 2.0207122587167337e-05}. Best is trial 8 with value: 0.9469891077917584.\n",
      "[I 2025-08-22 23:16:47,588] Trial 9 finished with value: 0.9458654523805899 and parameters: {'n_estimators': 327, 'learning_rate': 0.09273146363606355, 'num_leaves': 2300, 'max_depth': 8, 'min_child_samples': 156, 'subsample': 0.7468977981821954, 'colsample_bytree': 0.7613664146909971, 'reg_alpha': 7.04480806377519e-05, 'reg_lambda': 1.6934490731313353e-08, 'min_split_gain': 5.6916736298998674e-08}. Best is trial 8 with value: 0.9469891077917584.\n",
      "[I 2025-08-22 23:17:22,901] Trial 10 finished with value: 0.9441273545026647 and parameters: {'n_estimators': 1960, 'learning_rate': 0.03245104993326959, 'num_leaves': 1500, 'max_depth': 3, 'min_child_samples': 9, 'subsample': 0.6719337720565075, 'colsample_bytree': 0.980543007889207, 'reg_alpha': 0.016209635902427067, 'reg_lambda': 5.347016762749368, 'min_split_gain': 0.00032061892701275817}. Best is trial 8 with value: 0.9469891077917584.\n",
      "[I 2025-08-22 23:17:29,231] Trial 11 finished with value: 0.9411479317957182 and parameters: {'n_estimators': 633, 'learning_rate': 0.24030496310240707, 'num_leaves': 1480, 'max_depth': 3, 'min_child_samples': 81, 'subsample': 0.5199150427655417, 'colsample_bytree': 0.7866454888256146, 'reg_alpha': 8.999849785588976, 'reg_lambda': 2.7575700595780326, 'min_split_gain': 4.899539453138446e-06}. Best is trial 8 with value: 0.9469891077917584.\n",
      "[I 2025-08-22 23:17:42,438] Trial 12 finished with value: 0.9489736968051968 and parameters: {'n_estimators': 1604, 'learning_rate': 0.08415314937678015, 'num_leaves': 940, 'max_depth': 5, 'min_child_samples': 14, 'subsample': 0.6400016021035824, 'colsample_bytree': 0.8613574115870757, 'reg_alpha': 1.2167282577786403e-05, 'reg_lambda': 1.0453392205160294e-05, 'min_split_gain': 8.442250019367359e-05}. Best is trial 12 with value: 0.9489736968051968.\n",
      "[I 2025-08-22 23:17:54,797] Trial 13 finished with value: 0.9484910722218833 and parameters: {'n_estimators': 1618, 'learning_rate': 0.0805050108027666, 'num_leaves': 860, 'max_depth': 4, 'min_child_samples': 20, 'subsample': 0.6799045630890553, 'colsample_bytree': 0.8649174147658507, 'reg_alpha': 5.38290491006254e-06, 'reg_lambda': 9.055709296400546e-07, 'min_split_gain': 0.00022573307019383213}. Best is trial 12 with value: 0.9489736968051968.\n",
      "[I 2025-08-22 23:18:22,373] Trial 14 finished with value: 0.9489609087914037 and parameters: {'n_estimators': 1517, 'learning_rate': 0.06325460839396183, 'num_leaves': 920, 'max_depth': 5, 'min_child_samples': 10, 'subsample': 0.6772240059754249, 'colsample_bytree': 0.8675245144395568, 'reg_alpha': 3.901069568054158e-06, 'reg_lambda': 1.9891147260285344e-06, 'min_split_gain': 0.00036292405164502017}. Best is trial 12 with value: 0.9489736968051968.\n",
      "[I 2025-08-22 23:20:04,561] Trial 15 finished with value: 0.9479196830454246 and parameters: {'n_estimators': 1316, 'learning_rate': 0.021400748996805545, 'num_leaves': 520, 'max_depth': 6, 'min_child_samples': 5, 'subsample': 0.7341725799762009, 'colsample_bytree': 0.9693081054376664, 'reg_alpha': 8.731979628403565e-06, 'reg_lambda': 2.441096943440493e-06, 'min_split_gain': 0.010412358831125509}. Best is trial 12 with value: 0.9489736968051968.\n",
      "[I 2025-08-23 06:13:51,569] Trial 16 finished with value: 0.9430039440191758 and parameters: {'n_estimators': 1472, 'learning_rate': 0.005589456108062594, 'num_leaves': 1880, 'max_depth': 7, 'min_child_samples': 33, 'subsample': 0.5966473587120852, 'colsample_bytree': 0.8102751066876192, 'reg_alpha': 1.355088831571288e-06, 'reg_lambda': 1.2750105510617725e-06, 'min_split_gain': 0.004988338761514499}. Best is trial 12 with value: 0.9489736968051968.\n",
      "[I 2025-08-23 06:14:00,315] Trial 17 finished with value: 0.9454254708799796 and parameters: {'n_estimators': 1786, 'learning_rate': 0.13441957516531758, 'num_leaves': 1200, 'max_depth': 9, 'min_child_samples': 112, 'subsample': 0.5003317195384277, 'colsample_bytree': 0.9195563791944493, 'reg_alpha': 5.2679878325477496e-05, 'reg_lambda': 1.2912147088035764e-05, 'min_split_gain': 7.914740705441628e-05}. Best is trial 12 with value: 0.9489736968051968.\n",
      "[I 2025-08-23 06:14:29,691] Trial 18 finished with value: 0.9487024705560252 and parameters: {'n_estimators': 1034, 'learning_rate': 0.058215173932824875, 'num_leaves': 560, 'max_depth': 5, 'min_child_samples': 81, 'subsample': 0.6425609169284697, 'colsample_bytree': 0.7231610042250181, 'reg_alpha': 6.88092584051634e-07, 'reg_lambda': 3.35918377898784e-07, 'min_split_gain': 0.0020081224201273077}. Best is trial 12 with value: 0.9489736968051968.\n",
      "[I 2025-08-23 06:15:14,709] Trial 19 finished with value: 0.9490498596240569 and parameters: {'n_estimators': 1396, 'learning_rate': 0.14397843158046036, 'num_leaves': 1820, 'max_depth': 5, 'min_child_samples': 30, 'subsample': 0.8066324310531763, 'colsample_bytree': 0.9282640776627581, 'reg_alpha': 1.2722974438529106e-08, 'reg_lambda': 0.000104133116311454, 'min_split_gain': 0.00011291931556349913}. Best is trial 19 with value: 0.9490498596240569.\n",
      "[I 2025-08-23 06:16:18,706] Trial 20 finished with value: 0.9484378504583763 and parameters: {'n_estimators': 1078, 'learning_rate': 0.16065818843533725, 'num_leaves': 1680, 'max_depth': 4, 'min_child_samples': 46, 'subsample': 0.7937975523723113, 'colsample_bytree': 0.9411702484532986, 'reg_alpha': 1.2035873626108688e-08, 'reg_lambda': 0.041020624131075656, 'min_split_gain': 7.18452775825096e-05}. Best is trial 19 with value: 0.9490498596240569.\n",
      "[I 2025-08-23 06:16:36,962] Trial 21 finished with value: 0.94871803921151 and parameters: {'n_estimators': 1476, 'learning_rate': 0.05081745755422442, 'num_leaves': 1240, 'max_depth': 5, 'min_child_samples': 14, 'subsample': 0.7090536898163213, 'colsample_bytree': 0.8362125011398605, 'reg_alpha': 1.5756231721727526e-07, 'reg_lambda': 8.962430767344603e-05, 'min_split_gain': 0.0003028465655327378}. Best is trial 19 with value: 0.9490498596240569.\n",
      "[I 2025-08-23 06:16:42,517] Trial 22 finished with value: 0.9459869598980226 and parameters: {'n_estimators': 1372, 'learning_rate': 0.17373552330780762, 'num_leaves': 1880, 'max_depth': 7, 'min_child_samples': 22, 'subsample': 0.8170064962868606, 'colsample_bytree': 0.9124282941110524, 'reg_alpha': 1.2410021309418294e-05, 'reg_lambda': 1.1436340460181935e-05, 'min_split_gain': 3.807055490533675e-05}. Best is trial 19 with value: 0.9490498596240569.\n",
      "[I 2025-08-23 06:16:54,234] Trial 23 finished with value: 0.9486099623904372 and parameters: {'n_estimators': 1708, 'learning_rate': 0.09647756718369006, 'num_leaves': 580, 'max_depth': 4, 'min_child_samples': 34, 'subsample': 0.6135178372480368, 'colsample_bytree': 0.7205201073382292, 'reg_alpha': 2.1472106876444577e-06, 'reg_lambda': 2.733297344609491e-07, 'min_split_gain': 0.029914742865809772}. Best is trial 19 with value: 0.9490498596240569.\n",
      "[I 2025-08-23 06:17:36,883] Trial 24 finished with value: 0.9480625699995884 and parameters: {'n_estimators': 1164, 'learning_rate': 0.025971568699834538, 'num_leaves': 1180, 'max_depth': 5, 'min_child_samples': 5, 'subsample': 0.7118880991995381, 'colsample_bytree': 0.8288532787998742, 'reg_alpha': 1.0703656093801192e-08, 'reg_lambda': 0.00013715150669605107, 'min_split_gain': 0.0010785848241958759}. Best is trial 19 with value: 0.9490498596240569.\n",
      "[I 2025-08-23 06:18:52,212] Trial 25 finished with value: 0.9484696174895684 and parameters: {'n_estimators': 1468, 'learning_rate': 0.05052246291732534, 'num_leaves': 1720, 'max_depth': 6, 'min_child_samples': 72, 'subsample': 0.6361557387839083, 'colsample_bytree': 0.9424095484951119, 'reg_alpha': 9.02687970507506e-05, 'reg_lambda': 4.782806252114315e-06, 'min_split_gain': 0.00013208939751031454}. Best is trial 19 with value: 0.9490498596240569.\n",
      "[I 2025-08-23 06:19:53,670] Trial 26 finished with value: 0.9451738730900567 and parameters: {'n_estimators': 1840, 'learning_rate': 0.07259058657598912, 'num_leaves': 360, 'max_depth': 9, 'min_child_samples': 28, 'subsample': 0.5338509616649422, 'colsample_bytree': 0.9005269036416909, 'reg_alpha': 2.1282276012299035e-07, 'reg_lambda': 3.814436923594e-05, 'min_split_gain': 6.3348232734913985e-06}. Best is trial 19 with value: 0.9490498596240569.\n",
      "[I 2025-08-23 06:20:08,453] Trial 27 finished with value: 0.9492039303835185 and parameters: {'n_estimators': 1622, 'learning_rate': 0.11719806281004183, 'num_leaves': 740, 'max_depth': 4, 'min_child_samples': 51, 'subsample': 0.556029800934173, 'colsample_bytree': 0.9888104432888973, 'reg_alpha': 0.0034064233483588513, 'reg_lambda': 1.316291717033631e-07, 'min_split_gain': 0.0035231762859363473}. Best is trial 27 with value: 0.9492039303835185.\n",
      "[I 2025-08-23 06:20:20,014] Trial 28 finished with value: 0.9482956563579583 and parameters: {'n_estimators': 1671, 'learning_rate': 0.1681351716291161, 'num_leaves': 700, 'max_depth': 4, 'min_child_samples': 47, 'subsample': 0.5807872170770125, 'colsample_bytree': 0.9799234829693891, 'reg_alpha': 0.003845440254130345, 'reg_lambda': 1.9166609161164318e-07, 'min_split_gain': 0.004200077245742541}. Best is trial 27 with value: 0.9492039303835185.\n",
      "[I 2025-08-23 06:20:27,428] Trial 29 finished with value: 0.9468933528249531 and parameters: {'n_estimators': 880, 'learning_rate': 0.2123046838778648, 'num_leaves': 2080, 'max_depth': 7, 'min_child_samples': 95, 'subsample': 0.5442464385311027, 'colsample_bytree': 0.9959661281072402, 'reg_alpha': 0.16933390394995318, 'reg_lambda': 0.013090278551300474, 'min_split_gain': 0.0008554261701860861}. Best is trial 27 with value: 0.9492039303835185.\n",
      "Best ROC-AUC: 0.9492\n",
      "Training until validation scores don't improve for 100 rounds\n",
      "Early stopping, best iteration is:\n",
      "[325]\tvalid_0's auc: 0.951071\n"
     ]
    }
   ],
   "source": [
    "def objective(trial, X, y, n_folds=5):\n",
    "    \"\"\"\n",
    "    Optuna objective function for hyperparameter optimization\n",
    "    \"\"\"\n",
    "    param = {\n",
    "        'objective': 'binary',\n",
    "        'metric': 'auc',\n",
    "        'verbosity': -1,\n",
    "        'boosting_type': 'gbdt',\n",
    "        'n_estimators': trial.suggest_int('n_estimators', 100, 2000),\n",
    "        'learning_rate': trial.suggest_float('learning_rate', 0.005, 0.3, log=True),\n",
    "        'num_leaves': trial.suggest_int('num_leaves', 20, 3000, step=20),\n",
    "        'max_depth': trial.suggest_int('max_depth', 3, 12),\n",
    "        'min_child_samples': trial.suggest_int('min_child_samples', 5, 200),\n",
    "        'subsample': trial.suggest_float('subsample', 0.5, 1.0),\n",
    "        'colsample_bytree': trial.suggest_float('colsample_bytree', 0.5, 1.0),\n",
    "        'reg_alpha': trial.suggest_float('reg_alpha', 1e-8, 10.0, log=True),\n",
    "        'reg_lambda': trial.suggest_float('reg_lambda', 1e-8, 10.0, log=True),\n",
    "        'min_split_gain': trial.suggest_float('min_split_gain', 1e-8, 0.1, log=True),\n",
    "    }\n",
    "\n",
    "    # Cross-validation\n",
    "    cv = StratifiedKFold(n_splits=n_folds, shuffle=True, random_state=42)\n",
    "    cv_scores = []\n",
    "\n",
    "    for train_idx, val_idx in cv.split(X, y):\n",
    "        X_train, X_val = X.iloc[train_idx], X.iloc[val_idx]\n",
    "        y_train, y_val = y.iloc[train_idx], y.iloc[val_idx]\n",
    "\n",
    "        model = lgb.LGBMClassifier(**param, random_state=42)\n",
    "        model.fit(\n",
    "            X_train, y_train,\n",
    "            eval_set=[(X_val, y_val)],\n",
    "            callbacks=[early_stopping(100, verbose=False)] # Use callbacks instead of early_stopping_rounds\n",
    "        )\n",
    "\n",
    "        y_pred_proba = model.predict_proba(X_val)[:, 1]\n",
    "        score = roc_auc_score(y_val, y_pred_proba)\n",
    "        cv_scores.append(score)\n",
    "\n",
    "    return np.mean(cv_scores)\n",
    "\n",
    "print(\"\\nStarting hyperparameter optimization...\")\n",
    "model, best_score, best_params = train_optimal_model(X_train, y_train, X_test, y_test, n_trials=30)"
   ]
  },
  {
   "cell_type": "markdown",
   "metadata": {
    "id": "qsLpvr5mFHYV"
   },
   "source": [
    "Model Testing\n"
   ]
  },
  {
   "cell_type": "code",
   "execution_count": null,
   "metadata": {
    "colab": {
     "base_uri": "https://localhost:8080/"
    },
    "executionInfo": {
     "elapsed": 307,
     "status": "ok",
     "timestamp": 1755856714013,
     "user": {
      "displayName": "Abhishek C",
      "userId": "02828994344966629413"
     },
     "user_tz": -330
    },
    "id": "uLQ9nDsEFHeM",
    "outputId": "e08dde91-7743-40ba-de1f-d8f81108c0c0"
   },
   "outputs": [
    {
     "name": "stdout",
     "output_type": "stream",
     "text": [
      "\n",
      "Making predictions...\n",
      "\n",
      "Final Test ROC-AUC Score: 0.9511\n"
     ]
    }
   ],
   "source": [
    "# Make predictions\n",
    "print(\"\\nMaking predictions...\")\n",
    "y_pred_proba = model.predict_proba(X_test)[:, 1]\n",
    "y_pred = model.predict(X_test)\n",
    "\n",
    "# Evaluate model\n",
    "test_auc = roc_auc_score(y_test, y_pred_proba)\n",
    "print(f\"\\nFinal Test ROC-AUC Score: {test_auc:.4f}\")"
   ]
  },
  {
   "cell_type": "code",
   "execution_count": null,
   "metadata": {
    "colab": {
     "base_uri": "https://localhost:8080/"
    },
    "executionInfo": {
     "elapsed": 13,
     "status": "ok",
     "timestamp": 1755856723108,
     "user": {
      "displayName": "Abhishek C",
      "userId": "02828994344966629413"
     },
     "user_tz": -330
    },
    "id": "hncvk62PFgmd",
    "outputId": "317d61cf-d91d-48eb-d683-4dd3d2714f0c"
   },
   "outputs": [
    {
     "name": "stdout",
     "output_type": "stream",
     "text": [
      "\n",
      "Top 10 Most Important Features:\n",
      "             feature  importance\n",
      "1      person_income         744\n",
      "10   liquidity_ratio         355\n",
      "4        loan_intent         310\n",
      "13  income_stability         297\n",
      "5         loan_grade         296\n",
      "12  experience_ratio         288\n",
      "11       debt_burden         268\n",
      "15     risk_capacity         205\n",
      "14    credit_density         200\n",
      "6          loan_amnt         196\n"
     ]
    }
   ],
   "source": [
    "# Feature importance\n",
    "feature_importance = pd.DataFrame({\n",
    "    'feature': X_train.columns,\n",
    "    'importance': model.feature_importances_\n",
    "}).sort_values('importance', ascending=False)\n",
    "\n",
    "print(\"\\nTop 10 Most Important Features:\")\n",
    "print(feature_importance.head(10))"
   ]
  },
  {
   "cell_type": "markdown",
   "metadata": {
    "id": "eqUasUrGFp5z"
   },
   "source": [
    "Generate probability of default (PD) for all applicants"
   ]
  },
  {
   "cell_type": "code",
   "execution_count": 15,
   "metadata": {
    "colab": {
     "base_uri": "https://localhost:8080/"
    },
    "executionInfo": {
     "elapsed": 1309,
     "status": "ok",
     "timestamp": 1755856755968,
     "user": {
      "displayName": "Abhishek C",
      "userId": "02828994344966629413"
     },
     "user_tz": -330
    },
    "id": "A5paQo7jFioc",
    "outputId": "f6423f12-282e-4be9-cc9f-5fcee1834ee2"
   },
   "outputs": [
    {
     "name": "stdout",
     "output_type": "stream",
     "text": [
      "\n",
      "Generating PD values for all applicants...\n",
      "   person_age  person_income person_home_ownership  person_emp_length  \\\n",
      "0          22          59000                  RENT              123.0   \n",
      "1          21           9600                   OWN                5.0   \n",
      "2          25           9600              MORTGAGE                1.0   \n",
      "3          23          65500                  RENT                4.0   \n",
      "4          24          54400                  RENT                8.0   \n",
      "\n",
      "  loan_intent loan_grade  loan_amnt  loan_status  loan_percent_income  \\\n",
      "0    PERSONAL          D      35000            1                 0.59   \n",
      "1   EDUCATION          B       1000            0                 0.10   \n",
      "2     MEDICAL          C       5500            1                 0.57   \n",
      "3     MEDICAL          C      35000            1                 0.53   \n",
      "4     MEDICAL          C      35000            1                 0.55   \n",
      "\n",
      "  cb_person_default_on_file  cb_person_cred_hist_length        PD  \n",
      "0                         Y                           3  0.007830  \n",
      "1                         N                           2  0.301612  \n",
      "2                         N                           3  0.098366  \n",
      "3                         N                           2  0.990906  \n",
      "4                         Y                           4  0.000641  \n"
     ]
    }
   ],
   "source": [
    "print(\"\\nGenerating PD values for all applicants...\")\n",
    "X_all = pd.concat([X_train, X_test])\n",
    "all_predictions = model.predict_proba(X_all)[:, 1]\n",
    "\n",
    "# Create final results dataframe\n",
    "final_results = df.copy()\n",
    "final_results['PD'] = all_predictions\n",
    "print(final_results.head())"
   ]
  },
  {
   "cell_type": "markdown",
   "metadata": {
    "id": "Kaq6qLKSJk0E"
   },
   "source": [
    "Interest rate assignment based on Pd"
   ]
  },
  {
   "cell_type": "code",
   "execution_count": 16,
   "metadata": {
    "colab": {
     "base_uri": "https://localhost:8080/"
    },
    "executionInfo": {
     "elapsed": 72,
     "status": "ok",
     "timestamp": 1755856777837,
     "user": {
      "displayName": "Abhishek C",
      "userId": "02828994344966629413"
     },
     "user_tz": -330
    },
    "id": "UGgSE7RLFp_M",
    "outputId": "3c400435-08d5-4c34-c885-aef9f301ecd8"
   },
   "outputs": [
    {
     "name": "stdout",
     "output_type": "stream",
     "text": [
      "   person_age  person_income person_home_ownership  person_emp_length  \\\n",
      "0          22          59000                  RENT              123.0   \n",
      "1          21           9600                   OWN                5.0   \n",
      "2          25           9600              MORTGAGE                1.0   \n",
      "3          23          65500                  RENT                4.0   \n",
      "4          24          54400                  RENT                8.0   \n",
      "\n",
      "  loan_intent loan_grade  loan_amnt  loan_status  loan_percent_income  \\\n",
      "0    PERSONAL          D      35000            1                 0.59   \n",
      "1   EDUCATION          B       1000            0                 0.10   \n",
      "2     MEDICAL          C       5500            1                 0.57   \n",
      "3     MEDICAL          C      35000            1                 0.53   \n",
      "4     MEDICAL          C      35000            1                 0.55   \n",
      "\n",
      "  cb_person_default_on_file  cb_person_cred_hist_length        PD  \\\n",
      "0                         Y                           3  0.007830   \n",
      "1                         N                           2  0.301612   \n",
      "2                         N                           3  0.098366   \n",
      "3                         N                           2  0.990906   \n",
      "4                         Y                           4  0.000641   \n",
      "\n",
      "   assigned_interest_rate  \n",
      "0                7.117453  \n",
      "1               12.532250  \n",
      "2                8.475486  \n",
      "3               18.000000  \n",
      "4                7.009612  \n"
     ]
    }
   ],
   "source": [
    "def assign_interest_rate(pd_value):\n",
    "    \"\"\"\n",
    "    Assign interest rate based on probability of default using tiered approach\n",
    "    \"\"\"\n",
    "    if pd_value <= 0.10:  # Low Risk Tier\n",
    "        rate = 7 + (15 * pd_value)\n",
    "    elif pd_value <= 0.40:  # Medium Risk Tier\n",
    "        rate = 8.5 + (20 * (pd_value - 0.10))\n",
    "    else:  # High Risk Tier\n",
    "        rate = 14.5 + (6 * (pd_value - 0.40))\n",
    "\n",
    "    # Ensure the rate is capped between 7% and 18%\n",
    "    return max(7.0, min(rate, 18.0))\n",
    "\n",
    "# Assign interest rates based on PD\n",
    "final_results['assigned_interest_rate'] = final_results['PD'].apply(assign_interest_rate)\n",
    "print(final_results.head())"
   ]
  },
  {
   "cell_type": "markdown",
   "metadata": {
    "id": "iUxKksGqJsFL"
   },
   "source": [
    "Calculate expected profit\n"
   ]
  },
  {
   "cell_type": "code",
   "execution_count": 17,
   "metadata": {
    "colab": {
     "base_uri": "https://localhost:8080/"
    },
    "executionInfo": {
     "elapsed": 347,
     "status": "ok",
     "timestamp": 1755857971290,
     "user": {
      "displayName": "Abhishek C",
      "userId": "02828994344966629413"
     },
     "user_tz": -330
    },
    "id": "k_IU2zOzFz9C",
    "outputId": "669ad730-eb59-4939-9be6-586934bca3fd"
   },
   "outputs": [
    {
     "name": "stdout",
     "output_type": "stream",
     "text": [
      "\n",
      "Sample predictions with PD values and interest rates:\n",
      "   person_age  person_income  loan_amnt  loan_status        PD  \\\n",
      "0          22          59000      35000            1  0.007830   \n",
      "1          21           9600       1000            0  0.301612   \n",
      "2          25           9600       5500            1  0.098366   \n",
      "3          23          65500      35000            1  0.990906   \n",
      "4          24          54400      35000            1  0.000641   \n",
      "5          21           9900       2500            1  0.017298   \n",
      "6          26          77100      35000            1  0.038293   \n",
      "7          24          78956      35000            1  0.980873   \n",
      "8          24          83000      35000            1  0.024701   \n",
      "9          21          10000       1600            1  0.134671   \n",
      "\n",
      "   assigned_interest_rate  expected_profit  \n",
      "0                7.117453      2307.168500  \n",
      "1               12.532250       -93.443823  \n",
      "2                8.475486        95.691454  \n",
      "3               18.000000    -20751.732699  \n",
      "4                7.009612      2438.335790  \n",
      "5                7.259465       152.400798  \n",
      "6                7.574398      1745.365096  \n",
      "7               17.985235    -20477.918272  \n",
      "8                7.370521      1997.231564  \n",
      "9                9.193422        -1.998923  \n"
     ]
    }
   ],
   "source": [
    "def calculate_expected_profit(loan_amnt, interest_rate, pd_value, lgd=0.6):\n",
    "    \"\"\"\n",
    "    Calculate expected profit for a loan\n",
    "    \"\"\"\n",
    "    profit_if_paid = loan_amnt * (interest_rate / 100)  # Interest earned\n",
    "    loss_if_default = -loan_amnt * lgd  # Loss given default\n",
    "\n",
    "    expected_profit = (profit_if_paid * (1 - pd_value)) + (loss_if_default * pd_value)\n",
    "    return expected_profit\n",
    "\n",
    "# Calculate expected profit\n",
    "final_results['expected_profit'] = final_results.apply(\n",
    "    lambda row: calculate_expected_profit(\n",
    "        row['loan_amnt'],\n",
    "        row['assigned_interest_rate'],\n",
    "        row['PD']\n",
    "    ), axis=1\n",
    ")\n",
    "\n",
    "print(\"\\nSample predictions with PD values and interest rates:\")\n",
    "print(final_results[['person_age', 'person_income', 'loan_amnt', 'loan_status',\n",
    "                    'PD', 'assigned_interest_rate', 'expected_profit']].head(10))"
   ]
  },
  {
   "cell_type": "markdown",
   "metadata": {
    "id": "aXjNdCygJvyq"
   },
   "source": [
    "Finding the top 30% most profitable applicants"
   ]
  },
  {
   "cell_type": "code",
   "execution_count": 18,
   "metadata": {
    "colab": {
     "base_uri": "https://localhost:8080/"
    },
    "executionInfo": {
     "elapsed": 16,
     "status": "ok",
     "timestamp": 1755857986320,
     "user": {
      "displayName": "Abhishek C",
      "userId": "02828994344966629413"
     },
     "user_tz": -330
    },
    "id": "rb_Iq40dF1KJ",
    "outputId": "949620f3-2894-4cc6-d037-f48c512000ef"
   },
   "outputs": [
    {
     "name": "stdout",
     "output_type": "stream",
     "text": [
      "\n",
      "Selecting top 30% most profitable applicants...\n",
      "Total expected profit from top 30% applicants: $7,873,174.08\n",
      "Number of applicants in top 30%: 9774\n",
      "Average PD in top 30%: 0.0228\n",
      "Average interest rate in top 30%: 7.34%\n"
     ]
    }
   ],
   "source": [
    "print(\"\\nSelecting top 30% most profitable applicants...\")\n",
    "final_results_sorted = final_results.sort_values('expected_profit', ascending=False)\n",
    "top_30_percent = final_results_sorted.head(int(len(final_results_sorted) * 0.3))\n",
    "total_expected_profit = top_30_percent['expected_profit'].sum()\n",
    "print(f\"Total expected profit from top 30% applicants: ${total_expected_profit:,.2f}\")\n",
    "print(f\"Number of applicants in top 30%: {len(top_30_percent)}\")\n",
    "print(f\"Average PD in top 30%: {top_30_percent['PD'].mean():.4f}\")\n",
    "print(f\"Average interest rate in top 30%: {top_30_percent['assigned_interest_rate'].mean():.2f}%\")\n"
   ]
  },
  {
   "cell_type": "markdown",
   "metadata": {
    "id": "5aR_Kw6rJ4LK"
   },
   "source": [
    "Saving model and preprocessing artifacts\n"
   ]
  },
  {
   "cell_type": "code",
   "execution_count": 19,
   "metadata": {
    "colab": {
     "base_uri": "https://localhost:8080/"
    },
    "executionInfo": {
     "elapsed": 722,
     "status": "ok",
     "timestamp": 1755856917928,
     "user": {
      "displayName": "Abhishek C",
      "userId": "02828994344966629413"
     },
     "user_tz": -330
    },
    "id": "RoXnSQnTGxQK",
    "outputId": "f2afed11-216e-4104-84aa-1ca3a1e8413f"
   },
   "outputs": [
    {
     "name": "stdout",
     "output_type": "stream",
     "text": [
      "\n",
      "Saving model and preprocessing artifacts...\n",
      "\n",
      "All files saved successfully!\n",
      "Files created:\n",
      "- lightgbm_credit_risk_model.pkl (Trained model)\n",
      "- label_encoders.pkl (Categorical encoders)\n",
      "- feature_scaler.pkl (Feature scaler)\n",
      "- best_hyperparameters.pkl (Optimal hyperparameters)\n",
      "- loan_applicants_with_predictions.csv (All applicants with predictions)\n",
      "- top_30_percent_profitable_applicants.csv (Top 30% most profitable applicants)\n"
     ]
    }
   ],
   "source": [
    "print(\"\\nSaving model and preprocessing artifacts...\")\n",
    "joblib.dump(model, 'lightgbm_credit_risk_model.pkl')\n",
    "joblib.dump(label_encoders, 'label_encoders.pkl')\n",
    "joblib.dump(scaler, 'feature_scaler.pkl')\n",
    "joblib.dump(best_params, 'best_hyperparameters.pkl')\n",
    "\n",
    "# Save final results\n",
    "final_results.to_csv('loan_applicants_with_predictions.csv', index=False)\n",
    "top_30_percent.to_csv('top_30_percent_profitable_applicants.csv', index=False)\n",
    "\n",
    "print(\"\\nAll files saved successfully!\")\n",
    "print(\"Files created:\")\n",
    "print(\"- lightgbm_credit_risk_model.pkl (Trained model)\")\n",
    "print(\"- label_encoders.pkl (Categorical encoders)\")\n",
    "print(\"- feature_scaler.pkl (Feature scaler)\")\n",
    "print(\"- best_hyperparameters.pkl (Optimal hyperparameters)\")\n",
    "print(\"- loan_applicants_with_predictions.csv (All applicants with predictions)\")\n",
    "print(\"- top_30_percent_profitable_applicants.csv (Top 30% most profitable applicants)\")"
   ]
  }
 ],
 "metadata": {
  "colab": {
   "authorship_tag": "ABX9TyMAi1+WlmDyE1+jxOAeD9hM",
   "provenance": []
  },
  "kernelspec": {
   "display_name": "Python 3",
   "name": "python3"
  },
  "language_info": {
   "codemirror_mode": {
    "name": "ipython",
    "version": 3
   },
   "file_extension": ".py",
   "mimetype": "text/x-python",
   "name": "python",
   "nbconvert_exporter": "python",
   "pygments_lexer": "ipython3",
   "version": "3.12.6"
  },
  "widgets": {
   "application/vnd.jupyter.widget-state+json": {
    "108511382c104711ade65a92507f1faf": {
     "model_module": "@jupyter-widgets/controls",
     "model_module_version": "1.5.0",
     "model_name": "FloatProgressModel",
     "state": {
      "_dom_classes": [],
      "_model_module": "@jupyter-widgets/controls",
      "_model_module_version": "1.5.0",
      "_model_name": "FloatProgressModel",
      "_view_count": null,
      "_view_module": "@jupyter-widgets/controls",
      "_view_module_version": "1.5.0",
      "_view_name": "ProgressView",
      "bar_style": "success",
      "description": "",
      "description_tooltip": null,
      "layout": "IPY_MODEL_d38fda4f03ac4be3a964fe5689e3c0b8",
      "max": 30,
      "min": 0,
      "orientation": "horizontal",
      "style": "IPY_MODEL_c74599fd1cd7453aadaa46b75757c606",
      "value": 30
     }
    },
    "45631c63e0b348e4a7bfdaa1310a8f3d": {
     "model_module": "@jupyter-widgets/base",
     "model_module_version": "1.2.0",
     "model_name": "LayoutModel",
     "state": {
      "_model_module": "@jupyter-widgets/base",
      "_model_module_version": "1.2.0",
      "_model_name": "LayoutModel",
      "_view_count": null,
      "_view_module": "@jupyter-widgets/base",
      "_view_module_version": "1.2.0",
      "_view_name": "LayoutView",
      "align_content": null,
      "align_items": null,
      "align_self": null,
      "border": null,
      "bottom": null,
      "display": null,
      "flex": null,
      "flex_flow": null,
      "grid_area": null,
      "grid_auto_columns": null,
      "grid_auto_flow": null,
      "grid_auto_rows": null,
      "grid_column": null,
      "grid_gap": null,
      "grid_row": null,
      "grid_template_areas": null,
      "grid_template_columns": null,
      "grid_template_rows": null,
      "height": null,
      "justify_content": null,
      "justify_items": null,
      "left": null,
      "margin": null,
      "max_height": null,
      "max_width": null,
      "min_height": null,
      "min_width": null,
      "object_fit": null,
      "object_position": null,
      "order": null,
      "overflow": null,
      "overflow_x": null,
      "overflow_y": null,
      "padding": null,
      "right": null,
      "top": null,
      "visibility": null,
      "width": null
     }
    },
    "744756820db447908d97138e8aec2bdd": {
     "model_module": "@jupyter-widgets/base",
     "model_module_version": "1.2.0",
     "model_name": "LayoutModel",
     "state": {
      "_model_module": "@jupyter-widgets/base",
      "_model_module_version": "1.2.0",
      "_model_name": "LayoutModel",
      "_view_count": null,
      "_view_module": "@jupyter-widgets/base",
      "_view_module_version": "1.2.0",
      "_view_name": "LayoutView",
      "align_content": null,
      "align_items": null,
      "align_self": null,
      "border": null,
      "bottom": null,
      "display": null,
      "flex": null,
      "flex_flow": null,
      "grid_area": null,
      "grid_auto_columns": null,
      "grid_auto_flow": null,
      "grid_auto_rows": null,
      "grid_column": null,
      "grid_gap": null,
      "grid_row": null,
      "grid_template_areas": null,
      "grid_template_columns": null,
      "grid_template_rows": null,
      "height": null,
      "justify_content": null,
      "justify_items": null,
      "left": null,
      "margin": null,
      "max_height": null,
      "max_width": null,
      "min_height": null,
      "min_width": null,
      "object_fit": null,
      "object_position": null,
      "order": null,
      "overflow": null,
      "overflow_x": null,
      "overflow_y": null,
      "padding": null,
      "right": null,
      "top": null,
      "visibility": null,
      "width": null
     }
    },
    "89c1e32d32fa4b36b809bc008522b1d0": {
     "model_module": "@jupyter-widgets/base",
     "model_module_version": "1.2.0",
     "model_name": "LayoutModel",
     "state": {
      "_model_module": "@jupyter-widgets/base",
      "_model_module_version": "1.2.0",
      "_model_name": "LayoutModel",
      "_view_count": null,
      "_view_module": "@jupyter-widgets/base",
      "_view_module_version": "1.2.0",
      "_view_name": "LayoutView",
      "align_content": null,
      "align_items": null,
      "align_self": null,
      "border": null,
      "bottom": null,
      "display": null,
      "flex": null,
      "flex_flow": null,
      "grid_area": null,
      "grid_auto_columns": null,
      "grid_auto_flow": null,
      "grid_auto_rows": null,
      "grid_column": null,
      "grid_gap": null,
      "grid_row": null,
      "grid_template_areas": null,
      "grid_template_columns": null,
      "grid_template_rows": null,
      "height": null,
      "justify_content": null,
      "justify_items": null,
      "left": null,
      "margin": null,
      "max_height": null,
      "max_width": null,
      "min_height": null,
      "min_width": null,
      "object_fit": null,
      "object_position": null,
      "order": null,
      "overflow": null,
      "overflow_x": null,
      "overflow_y": null,
      "padding": null,
      "right": null,
      "top": null,
      "visibility": null,
      "width": null
     }
    },
    "94864114d26b41ac818c213c8b23f97c": {
     "model_module": "@jupyter-widgets/controls",
     "model_module_version": "1.5.0",
     "model_name": "DescriptionStyleModel",
     "state": {
      "_model_module": "@jupyter-widgets/controls",
      "_model_module_version": "1.5.0",
      "_model_name": "DescriptionStyleModel",
      "_view_count": null,
      "_view_module": "@jupyter-widgets/base",
      "_view_module_version": "1.2.0",
      "_view_name": "StyleView",
      "description_width": ""
     }
    },
    "99413f11581d4537a5ac61ff42c0baeb": {
     "model_module": "@jupyter-widgets/controls",
     "model_module_version": "1.5.0",
     "model_name": "DescriptionStyleModel",
     "state": {
      "_model_module": "@jupyter-widgets/controls",
      "_model_module_version": "1.5.0",
      "_model_name": "DescriptionStyleModel",
      "_view_count": null,
      "_view_module": "@jupyter-widgets/base",
      "_view_module_version": "1.2.0",
      "_view_name": "StyleView",
      "description_width": ""
     }
    },
    "9a377904ed86419d94792a1853f27246": {
     "model_module": "@jupyter-widgets/controls",
     "model_module_version": "1.5.0",
     "model_name": "HBoxModel",
     "state": {
      "_dom_classes": [],
      "_model_module": "@jupyter-widgets/controls",
      "_model_module_version": "1.5.0",
      "_model_name": "HBoxModel",
      "_view_count": null,
      "_view_module": "@jupyter-widgets/controls",
      "_view_module_version": "1.5.0",
      "_view_name": "HBoxView",
      "box_style": "",
      "children": [
       "IPY_MODEL_9c49d4b0c08c4be690b8cc0807f903c9",
       "IPY_MODEL_108511382c104711ade65a92507f1faf",
       "IPY_MODEL_e89a8428a9da4258840089542ed6564a"
      ],
      "layout": "IPY_MODEL_45631c63e0b348e4a7bfdaa1310a8f3d"
     }
    },
    "9c49d4b0c08c4be690b8cc0807f903c9": {
     "model_module": "@jupyter-widgets/controls",
     "model_module_version": "1.5.0",
     "model_name": "HTMLModel",
     "state": {
      "_dom_classes": [],
      "_model_module": "@jupyter-widgets/controls",
      "_model_module_version": "1.5.0",
      "_model_name": "HTMLModel",
      "_view_count": null,
      "_view_module": "@jupyter-widgets/controls",
      "_view_module_version": "1.5.0",
      "_view_name": "HTMLView",
      "description": "",
      "description_tooltip": null,
      "layout": "IPY_MODEL_89c1e32d32fa4b36b809bc008522b1d0",
      "placeholder": "​",
      "style": "IPY_MODEL_99413f11581d4537a5ac61ff42c0baeb",
      "value": "Best trial: 27. Best value: 0.949205: 100%"
     }
    },
    "c74599fd1cd7453aadaa46b75757c606": {
     "model_module": "@jupyter-widgets/controls",
     "model_module_version": "1.5.0",
     "model_name": "ProgressStyleModel",
     "state": {
      "_model_module": "@jupyter-widgets/controls",
      "_model_module_version": "1.5.0",
      "_model_name": "ProgressStyleModel",
      "_view_count": null,
      "_view_module": "@jupyter-widgets/base",
      "_view_module_version": "1.2.0",
      "_view_name": "StyleView",
      "bar_color": null,
      "description_width": ""
     }
    },
    "d38fda4f03ac4be3a964fe5689e3c0b8": {
     "model_module": "@jupyter-widgets/base",
     "model_module_version": "1.2.0",
     "model_name": "LayoutModel",
     "state": {
      "_model_module": "@jupyter-widgets/base",
      "_model_module_version": "1.2.0",
      "_model_name": "LayoutModel",
      "_view_count": null,
      "_view_module": "@jupyter-widgets/base",
      "_view_module_version": "1.2.0",
      "_view_name": "LayoutView",
      "align_content": null,
      "align_items": null,
      "align_self": null,
      "border": null,
      "bottom": null,
      "display": null,
      "flex": null,
      "flex_flow": null,
      "grid_area": null,
      "grid_auto_columns": null,
      "grid_auto_flow": null,
      "grid_auto_rows": null,
      "grid_column": null,
      "grid_gap": null,
      "grid_row": null,
      "grid_template_areas": null,
      "grid_template_columns": null,
      "grid_template_rows": null,
      "height": null,
      "justify_content": null,
      "justify_items": null,
      "left": null,
      "margin": null,
      "max_height": null,
      "max_width": null,
      "min_height": null,
      "min_width": null,
      "object_fit": null,
      "object_position": null,
      "order": null,
      "overflow": null,
      "overflow_x": null,
      "overflow_y": null,
      "padding": null,
      "right": null,
      "top": null,
      "visibility": null,
      "width": null
     }
    },
    "e89a8428a9da4258840089542ed6564a": {
     "model_module": "@jupyter-widgets/controls",
     "model_module_version": "1.5.0",
     "model_name": "HTMLModel",
     "state": {
      "_dom_classes": [],
      "_model_module": "@jupyter-widgets/controls",
      "_model_module_version": "1.5.0",
      "_model_name": "HTMLModel",
      "_view_count": null,
      "_view_module": "@jupyter-widgets/controls",
      "_view_module_version": "1.5.0",
      "_view_name": "HTMLView",
      "description": "",
      "description_tooltip": null,
      "layout": "IPY_MODEL_744756820db447908d97138e8aec2bdd",
      "placeholder": "​",
      "style": "IPY_MODEL_94864114d26b41ac818c213c8b23f97c",
      "value": " 30/30 [11:24&lt;00:00, 14.17s/it]"
     }
    }
   }
  }
 },
 "nbformat": 4,
 "nbformat_minor": 0
}
