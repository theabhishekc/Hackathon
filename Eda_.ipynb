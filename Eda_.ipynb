{
 "cells": [
  {
   "cell_type": "code",
   "execution_count": null,
   "metadata": {
    "colab": {
     "base_uri": "https://localhost:8080/",
     "height": 509
    },
    "id": "eWn_x1HMQ47P",
    "outputId": "5a21cff5-c985-432a-e5ba-67baf3520b4f"
   },
   "outputs": [],
   "source": [
    "import matplotlib.pyplot as plt\n",
    "import seaborn as sns\n",
    "import pandas as pd\n",
    "\n",
    "df = pd.read_csv('/content/Credit-Risk-Dataset.csv')\n",
    "# 1. Loan Status Distribution\n",
    "plt.figure(figsize=(6,5))\n",
    "sns.countplot(\n",
    "    data=df,\n",
    "    x=\"loan_status\",\n",
    "    hue=\"loan_status\",   # explicitly set hue\n",
    "    palette=[\"#2ca02c\", \"#ff7f0e\"],\n",
    "    legend=False         # no need for extra legend\n",
    ")\n",
    "plt.title(\"Loan Status Distribution (0 = Non-Default, 1 = Default)\", fontsize=14, weight=\"bold\")\n",
    "plt.xlabel(\"Loan Status\", fontsize=12)\n",
    "plt.ylabel(\"Number of Applicants\", fontsize=12)\n",
    "plt.show()\n",
    "print(\"Explanation: This shows overall balance of classes.\")"
   ]
  },
  {
   "cell_type": "code",
   "execution_count": null,
   "metadata": {
    "colab": {
     "base_uri": "https://localhost:8080/",
     "height": 509
    },
    "id": "M8GGoRIARAyy",
    "outputId": "f5a61c52-9935-4676-ff83-bf8fb161cf7f"
   },
   "outputs": [],
   "source": [
    "# 2. Loan Grade vs Loan Status\n",
    "plt.figure(figsize=(8,5))\n",
    "sns.countplot(x=\"loan_grade\", hue=\"loan_status\", data=df,\n",
    "              order=sorted(df[\"loan_grade\"].unique()),\n",
    "              palette=[\"#2ca02c\", \"#ff7f0e\"])\n",
    "plt.title(\"Loan Grade vs Loan Status\", fontsize=14, weight=\"bold\")\n",
    "plt.xlabel(\"Loan Grade\", fontsize=12)\n",
    "plt.ylabel(\"Number of Applicants\", fontsize=12)\n",
    "plt.legend(title=\"Loan Status\", labels=[\"Non-Default\", \"Default\"])\n",
    "plt.show()\n",
    "print(\"Explanation: Lower grades (like D, E, F) usually have more defaults.\")\n"
   ]
  },
  {
   "cell_type": "code",
   "execution_count": null,
   "metadata": {
    "colab": {
     "base_uri": "https://localhost:8080/",
     "height": 612
    },
    "id": "uyx7vqDcRD0m",
    "outputId": "0758e9ca-76f3-4e0e-ff10-8a779b04821b"
   },
   "outputs": [],
   "source": [
    "# 3. Loan Intent vs Loan Status\n",
    "plt.figure(figsize=(9,5))\n",
    "sns.countplot(x=\"loan_intent\", hue=\"loan_status\", data=df, palette=[\"#2ca02c\", \"#ff7f0e\"])\n",
    "plt.title(\"Loan Intent vs Loan Status\", fontsize=14, weight=\"bold\")\n",
    "plt.xlabel(\"Loan Intent\", fontsize=12)\n",
    "plt.ylabel(\"Number of Applicants\", fontsize=12)\n",
    "plt.legend(title=\"Loan Status\", labels=[\"Non-Default\", \"Default\"])\n",
    "plt.xticks(rotation=45)\n",
    "plt.show()\n",
    "print(\"Explanation: Loan purpose affects risk.\")\n"
   ]
  },
  {
   "cell_type": "code",
   "execution_count": null,
   "metadata": {
    "colab": {
     "base_uri": "https://localhost:8080/",
     "height": 509
    },
    "id": "LsH_htHNRGkJ",
    "outputId": "49f526af-13be-4fed-d2a8-cb4ecceee7e4"
   },
   "outputs": [],
   "source": [
    "# 4. Loan Percent Income vs Loan Status\n",
    "plt.figure(figsize=(8,5))\n",
    "sns.boxplot(\n",
    "    data=df,\n",
    "    x=\"loan_status\",\n",
    "    y=\"loan_percent_income\",\n",
    "    hue=\"loan_status\",                     # explicitly use loan_status as hue\n",
    "    palette=[\"#2ca02c\", \"#ff7f0e\"],        # green, orange\n",
    "    dodge=False                            # important: keep boxes side by side, not split\n",
    ")\n",
    "plt.title(\"Loan Percent Income vs Loan Status\", fontsize=14, weight=\"bold\")\n",
    "plt.xlabel(\"Loan Status\", fontsize=12)\n",
    "plt.ylabel(\"Loan Percent of Income\", fontsize=12)\n",
    "plt.xticks([0,1], [\"Non-Default\", \"Default\"])\n",
    "plt.legend([],[], frameon=False)  # remove redundant legend\n",
    "plt.show()\n",
    "print(\"Explanation: Applicants whose loan takes up a high loan percent of income(loan amount /annual income) are more likely to default.\")\n"
   ]
  },
  {
   "cell_type": "code",
   "execution_count": null,
   "metadata": {
    "colab": {
     "base_uri": "https://localhost:8080/",
     "height": 509
    },
    "id": "VmGY6BM2RKMc",
    "outputId": "d9760ec3-4184-43e7-d38f-86d17fb7e4a5"
   },
   "outputs": [],
   "source": [
    "# 5. Home Ownership vs Loan Status\n",
    "plt.figure(figsize=(8,5))\n",
    "sns.countplot(\n",
    "    data=df,\n",
    "    x=\"person_home_ownership\",\n",
    "    hue= \"loan_status\",\n",
    "    palette=[\"#2ca02c\", \"#ff7f0e\"]\n",
    ")\n",
    "plt.title(\"Home Ownership vs Loan Status\", fontsize=14, weight=\"bold\")\n",
    "plt.xlabel(\"Home Ownership\", fontsize=12)\n",
    "plt.ylabel(\"Number of Applicants\", fontsize=12)\n",
    "plt.legend(title=\"Loan Status\", labels=[\"Non-Default\", \"Default\"])\n",
    "plt.show()\n",
    "print(\"Explanation: Homeowners (OWN) are safer borrowers. Renters and Mortgage holders show more defaults.\")"
   ]
  }
 ],
 "metadata": {
  "colab": {
   "provenance": []
  },
  "kernelspec": {
   "display_name": "Python 3",
   "name": "python3"
  },
  "language_info": {
   "name": "python"
  }
 },
 "nbformat": 4,
 "nbformat_minor": 0
}
